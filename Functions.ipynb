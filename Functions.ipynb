{
 "cells": [
  {
   "cell_type": "markdown",
   "id": "49a6fb98",
   "metadata": {},
   "source": [
    "# Functions"
   ]
  },
  {
   "cell_type": "markdown",
   "id": "6d25712d",
   "metadata": {},
   "source": [
    "## Functions keywords arguments"
   ]
  },
  {
   "cell_type": "code",
   "execution_count": 3,
   "id": "6a108477",
   "metadata": {},
   "outputs": [
    {
     "name": "stdout",
     "output_type": "stream",
     "text": [
      "Length = 1\n",
      "Width = 2\n",
      "Depth = 3\n",
      "Length = 5\n",
      "Width = 4\n",
      "Depth = 2\n",
      "Length = 2\n",
      "Width = 4\n",
      "Depth = 3\n"
     ]
    },
    {
     "data": {
      "text/plain": [
       "24"
      ]
     },
     "execution_count": 3,
     "metadata": {},
     "output_type": "execute_result"
    }
   ],
   "source": [
    "def findvolume(length=1, width=1, depth=1):\n",
    "  print(\"Length = \" + str(length))\n",
    "  print(\"Width = \" + str(width))\n",
    "  print(\"Depth = \" + str(depth))\n",
    "  return length * width * depth;\n",
    "\n",
    "findvolume(1, 2, 3)\n",
    "findvolume(length=5, depth=2, width=4)\n",
    "findvolume(2, depth=3, width=4)"
   ]
  },
  {
   "cell_type": "markdown",
   "id": "842d3345",
   "metadata": {},
   "source": [
    "## Function Identation"
   ]
  },
  {
   "cell_type": "code",
   "execution_count": 4,
   "id": "62f74e3a",
   "metadata": {},
   "outputs": [
    {
     "name": "stdout",
     "output_type": "stream",
     "text": [
      "This is not part of testfunction\n"
     ]
    }
   ],
   "source": [
    "# Indentation is used to identify code blocks\n",
    "\n",
    "def testfunction(number):\n",
    "  # This code is part of testfunction\n",
    "  print(\"Inside the testfunction\")\n",
    "  sum = 0\n",
    "  for x in range(number):\n",
    "    # More indentation because 'for' has a code block\n",
    "    # but still part of he function\n",
    "    sum += x\n",
    "  return sum\n",
    "print(\"This is not part of testfunction\")"
   ]
  },
  {
   "cell_type": "markdown",
   "id": "cbd36cda",
   "metadata": {},
   "source": [
    "## Scope of variables"
   ]
  },
  {
   "cell_type": "code",
   "execution_count": 5,
   "id": "55ff2bd5",
   "metadata": {},
   "outputs": [
    {
     "name": "stdout",
     "output_type": "stream",
     "text": [
      "5\n",
      "2\n"
     ]
    }
   ],
   "source": [
    "a = 5\n",
    "\n",
    "def f1():\n",
    "  a = 2\n",
    "  print(a)\n",
    "  \n",
    "print(a)   # Will print 5\n",
    "f1()       # Will print 2"
   ]
  },
  {
   "cell_type": "markdown",
   "id": "c511d1a3",
   "metadata": {},
   "source": [
    "In Python, a variable defined inside a function is called a local variable. It cannot be used outside of the scope of the function, and attempting to do so without defining the variable outside of the function will cause an error."
   ]
  },
  {
   "cell_type": "markdown",
   "id": "c0d3a992",
   "metadata": {},
   "source": [
    "## Function Arguments"
   ]
  },
  {
   "cell_type": "code",
   "execution_count": 6,
   "id": "d5cad618",
   "metadata": {},
   "outputs": [
    {
     "name": "stdout",
     "output_type": "stream",
     "text": [
      "The Farmer’s Market is selling toothpaste for $1\n"
     ]
    }
   ],
   "source": [
    "def sales(grocery_store, item_on_sale, cost):\n",
    "  print(grocery_store + \" is selling \" + item_on_sale + \" for \" + cost) \n",
    "\n",
    "sales(\"The Farmer’s Market\", \"toothpaste\", \"$1\")"
   ]
  },
  {
   "cell_type": "markdown",
   "id": "c000b869",
   "metadata": {},
   "source": [
    "## Parameters as Local Variables"
   ]
  },
  {
   "cell_type": "code",
   "execution_count": 7,
   "id": "19e231f4",
   "metadata": {},
   "outputs": [
    {
     "name": "stdout",
     "output_type": "stream",
     "text": [
      "7\n"
     ]
    },
    {
     "ename": "NameError",
     "evalue": "name 'value' is not defined",
     "output_type": "error",
     "traceback": [
      "\u001b[1;31m---------------------------------------------------------------------------\u001b[0m",
      "\u001b[1;31mNameError\u001b[0m                                 Traceback (most recent call last)",
      "Input \u001b[1;32mIn [7]\u001b[0m, in \u001b[0;36m<cell line: 8>\u001b[1;34m()\u001b[0m\n\u001b[0;32m      5\u001b[0m my_function(\u001b[38;5;241m7\u001b[39m) \n\u001b[0;32m      7\u001b[0m \u001b[38;5;66;03m# Causes an error as `value` no longer exists\u001b[39;00m\n\u001b[1;32m----> 8\u001b[0m \u001b[38;5;28mprint\u001b[39m(\u001b[43mvalue\u001b[49m)\n",
      "\u001b[1;31mNameError\u001b[0m: name 'value' is not defined"
     ]
    }
   ],
   "source": [
    "def my_function(value):\n",
    "  print(value)   \n",
    "  \n",
    "# Pass the value 7 into the function\n",
    "my_function(7) \n",
    "\n",
    "# Causes an error as `value` no longer exists\n",
    "print(value) "
   ]
  },
  {
   "cell_type": "markdown",
   "id": "1fcff0ed",
   "metadata": {},
   "source": [
    "# Control Flow"
   ]
  },
  {
   "cell_type": "markdown",
   "id": "7d1ed096",
   "metadata": {},
   "source": [
    "## Not Equals Operator *!=*"
   ]
  },
  {
   "cell_type": "code",
   "execution_count": 8,
   "id": "8a49d0a0",
   "metadata": {},
   "outputs": [
    {
     "name": "stdout",
     "output_type": "stream",
     "text": [
      "They are NOT equal\n",
      "They are NOT equal\n",
      "They are NOT equal\n"
     ]
    }
   ],
   "source": [
    "# Not Equals Operator\n",
    "\n",
    "if \"Yes\" != \"No\":\n",
    "  # evaluates to True\n",
    "  print(\"They are NOT equal\")\n",
    "\n",
    "val1 = 10\n",
    "val2 = 20\n",
    "\n",
    "if val1 != val2:\n",
    "  print(\"They are NOT equal\")\n",
    "\n",
    "if (10 > 1) != (10 > 1000):\n",
    "  # True != False\n",
    "  print(\"They are NOT equal\")"
   ]
  },
  {
   "cell_type": "markdown",
   "id": "95af7c89",
   "metadata": {},
   "source": [
    "## *not* Operator"
   ]
  },
  {
   "cell_type": "code",
   "execution_count": 9,
   "id": "5de972ae",
   "metadata": {},
   "outputs": [
    {
     "data": {
      "text/plain": [
       "False"
      ]
     },
     "execution_count": 9,
     "metadata": {},
     "output_type": "execute_result"
    }
   ],
   "source": [
    "not True     # Evaluates to False\n",
    "not False    # Evaluates to True\n",
    "1 > 2        # Evaluates to False\n",
    "not 1 > 2    # Evaluates to True\n",
    "1 == 1       # Evaluates to True\n",
    "not 1 == 1   # Evaluates to False"
   ]
  },
  {
   "cell_type": "markdown",
   "id": "53cf46df",
   "metadata": {},
   "source": [
    "## *SyntaxError*"
   ]
  },
  {
   "cell_type": "code",
   "execution_count": 10,
   "id": "98a73ebb",
   "metadata": {},
   "outputs": [
    {
     "ename": "SyntaxError",
     "evalue": "cannot assign to operator (381476707.py, line 1)",
     "output_type": "error",
     "traceback": [
      "\u001b[1;36m  Input \u001b[1;32mIn [10]\u001b[1;36m\u001b[0m\n\u001b[1;33m    age = 7 + 5 = 4\u001b[0m\n\u001b[1;37m          ^\u001b[0m\n\u001b[1;31mSyntaxError\u001b[0m\u001b[1;31m:\u001b[0m cannot assign to operator\n"
     ]
    }
   ],
   "source": [
    "age = 7 + 5 = 4"
   ]
  },
  {
   "cell_type": "markdown",
   "id": "28410a33",
   "metadata": {},
   "source": [
    "A SyntaxError is reported by the Python interpreter when some portion of the code is incorrect. This can include misspelled keywords, missing or too many brackets or parentheses, incorrect operators, missing or too many quotation marks, or other conditions."
   ]
  },
  {
   "cell_type": "markdown",
   "id": "c799b1d6",
   "metadata": {},
   "source": [
    "## Exercise"
   ]
  },
  {
   "cell_type": "code",
   "execution_count": 25,
   "id": "b2665b53",
   "metadata": {},
   "outputs": [
    {
     "name": "stdout",
     "output_type": "stream",
     "text": [
      "Welcome to the cafe!\n",
      "What size drink can I get for you? \n",
      "[a] Small \n",
      "[b] Medium \n",
      "[c] Large \n",
      "a\n",
      "What type of drink would you like?\n",
      " [a] Brewed Coffee\n",
      " [b] Mocha\n",
      " [c] Latte\n",
      "c\n",
      "And what kind of milk for your latte?\n",
      " [a] 2% milk\n",
      " [b] Non_fat milk\n",
      " [c] Soy milk\n",
      "a\n",
      "Alright, that's a Ok! Your drink is SMALL LATTE!\n",
      "Can I get your name please?\n",
      "Joel\n",
      "Thanks, Joel! Your drink will be ready shortly\n"
     ]
    }
   ],
   "source": [
    "# Define your functions\n",
    "\n",
    "def coffee_bot():\n",
    "  print(\"Welcome to the cafe!\")\n",
    "  size= get_size()\n",
    "  drink_type= get_drink_type()\n",
    "  print(\"Alright, that's a {} {}!\".format(size, drink_type))\n",
    "  name=get_name()\n",
    "  print(\"Thanks, {}! Your drink will be ready shortly\".format(name))\n",
    "\n",
    "def get_size():\n",
    "  res= input(\"What size drink can I get for you? \\n[a] Small \\n[b] Medium \\n[c] Large \\n\")\n",
    "  \n",
    "  if res == \"a\":\n",
    "    return \"Ok! Your drink is SMALL\"\n",
    "  elif res == \"b\":\n",
    "    return \"Drink MEDIUM\"\n",
    "  elif res == \"c\":\n",
    "    return \"Great! A LARGE drink coffee\"\n",
    "  else:\n",
    "    print_message()\n",
    "    return get_size()\n",
    "\n",
    "def print_message():\n",
    "  print(\"I'm sorry, I did not understand your selection. Please enter the corresponding letter for your response\")\n",
    "\n",
    "def get_drink_type():\n",
    "  res=input(\"What type of drink would you like?\\n [a] Brewed Coffee\\n [b] Mocha\\n [c] Latte\\n\")\n",
    "  \n",
    "  if res == \"a\":\n",
    "    return \"BREWED COFFEE\"\n",
    "  elif res == \"b\":\n",
    "    return \"MOCHA\"\n",
    "  elif res == \"c\":\n",
    "    return order_latte()\n",
    "  else:\n",
    "    print_message()\n",
    "    return get_drink_type()\n",
    "\n",
    "def order_latte():\n",
    "  res=input(\"And what kind of milk for your latte?\\n [a] 2% milk\\n [b] Non_fat milk\\n [c] Soy milk\\n\")\n",
    "\n",
    "  if res == \"a\":\n",
    "    return \"LATTE\"\n",
    "  elif res == \"b\":\n",
    "    return \"Non_fat LATTE\"\n",
    "  elif res == \"c\":\n",
    "    return \"Soy LATTE\"\n",
    "  else:\n",
    "    print_message()\n",
    "    return order_latte()\n",
    "\n",
    "def get_name():\n",
    "  name=input(\"Can I get your name please?\\n\")\n",
    "  return name\n",
    "\n",
    "# Call coffee_bot()!\n",
    "\n",
    "coffee_bot()"
   ]
  },
  {
   "cell_type": "markdown",
   "id": "6e9f23ba",
   "metadata": {},
   "source": [
    "# List"
   ]
  },
  {
   "cell_type": "markdown",
   "id": "47b543b4",
   "metadata": {},
   "source": [
    "## Modifying a 2D list"
   ]
  },
  {
   "cell_type": "code",
   "execution_count": null,
   "id": "774eee44",
   "metadata": {},
   "outputs": [],
   "source": [
    "# A 2D list of names and hobbies\n",
    "class_name_hobbies = [[\"Jenny\", \"Breakdancing\"], [\"Alexus\", \"Photography\"], [\"Grace\", \"Soccer\"]]\n",
    "\n",
    "# The sublist of Jenny is at index 0. The hobby is at index 1 of the sublist. \n",
    "class_name_hobbies[0][1] = \"Meditation\"\n",
    "print(class_name_hobbies)\n",
    "\n",
    "# Output\n",
    "# [[\"Jenny\", \"Meditation\"], [\"Alexus\", \"Photography\"], [\"Grace\", \"Soccer\"]]"
   ]
  },
  {
   "cell_type": "markdown",
   "id": "00e81198",
   "metadata": {},
   "source": [
    "## List Method *.pop()*"
   ]
  },
  {
   "cell_type": "code",
   "execution_count": null,
   "id": "0a5b04ab",
   "metadata": {},
   "outputs": [],
   "source": [
    "cs_topics = [\"Python\", \"Data Structures\", \"Balloon Making\", \"Algorithms\", \"Clowns 101\"]\n",
    "\n",
    "# Pop the last element\n",
    "removed_element = cs_topics.pop()\n",
    "\n",
    "print(cs_topics)\n",
    "print(removed_element)\n",
    "\n",
    "# Output:\n",
    "# ['Python', 'Data Structures', 'Balloon Making', 'Algorithms']\n",
    "# 'Clowns 101'\n",
    "\n",
    "# Pop the element \"Baloon Making\"\n",
    "cs_topics.pop(2)\n",
    "print(cs_topics)\n",
    "\n",
    "# Output:\n",
    "# ['Python', 'Data Structures', 'Algorithms']"
   ]
  },
  {
   "cell_type": "markdown",
   "id": "6f032064",
   "metadata": {},
   "source": [
    "## *sorted()* Function"
   ]
  },
  {
   "cell_type": "code",
   "execution_count": 55,
   "id": "19f9148f",
   "metadata": {},
   "outputs": [
    {
     "name": "stdout",
     "output_type": "stream",
     "text": [
      "[1, 2, 3, 4]\n",
      "[1, 2, 3, 4]\n"
     ]
    }
   ],
   "source": [
    "unsortedList = [4, 2, 1, 3]\n",
    "sortedList = sorted(unsortedList)\n",
    "print(sortedList)\n",
    "# Output: [1, 2, 3, 4]\n",
    "unsortedList.sort()\n",
    "print(unsortedList)\n",
    "\n"
   ]
  },
  {
   "cell_type": "markdown",
   "id": "f47ee463",
   "metadata": {},
   "source": [
    "# Loops"
   ]
  },
  {
   "cell_type": "markdown",
   "id": "b52ae052",
   "metadata": {},
   "source": [
    "## Python List Comprehension"
   ]
  },
  {
   "cell_type": "code",
   "execution_count": 27,
   "id": "38be128b",
   "metadata": {},
   "outputs": [
    {
     "name": "stdout",
     "output_type": "stream",
     "text": [
      "[0, 4, 16, 36, 64]\n"
     ]
    }
   ],
   "source": [
    "# List comprehension for the squares of all even numbers between 0 and 9\n",
    "result = [x**2 for x in range(10) if x % 2 == 0]\n",
    "\n",
    "print(result)\n",
    "# [0, 4, 16, 36, 64]"
   ]
  },
  {
   "cell_type": "markdown",
   "id": "3ed4d2d5",
   "metadata": {},
   "source": [
    "## The Python *continue* Keyword"
   ]
  },
  {
   "cell_type": "code",
   "execution_count": 28,
   "id": "25e28f5b",
   "metadata": {},
   "outputs": [
    {
     "name": "stdout",
     "output_type": "stream",
     "text": [
      "1\n",
      "2\n",
      "4\n",
      "5\n",
      "2\n"
     ]
    }
   ],
   "source": [
    "big_number_list = [1, 2, -1, 4, -5, 5, 2, -9]\n",
    "\n",
    "# Print only positive numbers:\n",
    "for i in big_number_list:\n",
    "  if i < 0:\n",
    "    continue\n",
    "  print(i)"
   ]
  },
  {
   "cell_type": "markdown",
   "id": "99b12b66",
   "metadata": {},
   "source": [
    "In Python, the continue keyword is used inside a loop to skip the remaining code inside the loop code block and begin the next loop iteration."
   ]
  },
  {
   "cell_type": "markdown",
   "id": "2aab441d",
   "metadata": {},
   "source": [
    "## *break* Keyword"
   ]
  },
  {
   "cell_type": "code",
   "execution_count": 29,
   "id": "e456ca73",
   "metadata": {},
   "outputs": [
    {
     "name": "stdout",
     "output_type": "stream",
     "text": [
      "0\n",
      "254\n",
      "2\n",
      "Negative number detected!\n"
     ]
    }
   ],
   "source": [
    "numbers = [0, 254, 2, -1, 3]\n",
    "\n",
    "for num in numbers:\n",
    "  if (num < 0):\n",
    "    print(\"Negative number detected!\")\n",
    "    break\n",
    "  print(num)\n",
    "  \n",
    "# 0\n",
    "# 254\n",
    "# 2\n",
    "# Negative number detected!"
   ]
  },
  {
   "cell_type": "markdown",
   "id": "0d71f8bc",
   "metadata": {},
   "source": [
    "## Python Loops with *range()*"
   ]
  },
  {
   "cell_type": "code",
   "execution_count": 32,
   "id": "f238bdb7",
   "metadata": {},
   "outputs": [
    {
     "name": "stdout",
     "output_type": "stream",
     "text": [
      "0\n",
      "1\n",
      "2\n",
      "WARNING\n",
      "WARNING\n",
      "WARNING\n"
     ]
    }
   ],
   "source": [
    "# Print the numbers 0, 1, 2:\n",
    "for i in range(3):\n",
    "  print(i)\n",
    "\n",
    "# Print \"WARNING\" 3 times:\n",
    "for i in range(3):\n",
    "  print(\"WARNING\")"
   ]
  },
  {
   "cell_type": "markdown",
   "id": "552cbfab",
   "metadata": {},
   "source": [
    "In Python, a for loop can be used to perform an action a specific number of times in a row.\n",
    "\n",
    "The range() function can be used to create a list that can be used to specify the number of iterations in a for loop."
   ]
  },
  {
   "cell_type": "markdown",
   "id": "3777efab",
   "metadata": {},
   "source": [
    "## Python Nested Loops"
   ]
  },
  {
   "cell_type": "code",
   "execution_count": 38,
   "id": "29a458db",
   "metadata": {
    "scrolled": true
   },
   "outputs": [
    {
     "name": "stdout",
     "output_type": "stream",
     "text": [
      "Jobs\n",
      "Gates\n",
      "Newton\n",
      "Euclid\n",
      "Einstein\n",
      "Feynman\n"
     ]
    }
   ],
   "source": [
    "groups = [[\"Jobs\", \"Gates\"], [\"Newton\", \"Euclid\"], [\"Einstein\", \"Feynman\"]]\n",
    "\n",
    "# This outer loop will iterate over each list in the groups list\n",
    "for group in groups:\n",
    "    #print(group)\n",
    "  # This inner loop will go through each name in each list\n",
    "    for name in group:\n",
    "        print(name)"
   ]
  },
  {
   "cell_type": "markdown",
   "id": "a30e3890",
   "metadata": {},
   "source": [
    "In Python, loops can be nested inside other loops. Nested loops can be used to access items of lists which are inside other lists. The item selected from the outer loop can be used as the list for the inner loop to iterate over."
   ]
  },
  {
   "cell_type": "markdown",
   "id": "809bdcbf",
   "metadata": {},
   "source": [
    "## *.insert(i, element)*"
   ]
  },
  {
   "cell_type": "code",
   "execution_count": 47,
   "id": "fc85d2c4",
   "metadata": {},
   "outputs": [
    {
     "name": "stdout",
     "output_type": "stream",
     "text": [
      "['pajaro', 'perro', 'Hormiga']\n",
      "['Buffalo', 'pajaro', 'perro', 'Hormiga']\n"
     ]
    }
   ],
   "source": [
    "animals = [\"pajaro\", \"perro\", \"Hormiga\"]\n",
    "print(animals)\n",
    "\n",
    "animals.insert(0,\"Buffalo\")\n",
    "print(animals)"
   ]
  },
  {
   "cell_type": "code",
   "execution_count": 60,
   "id": "df8947d6",
   "metadata": {},
   "outputs": [
    {
     "data": {
      "text/plain": [
       "[0, 1, 2, 3, 4, 5]"
      ]
     },
     "execution_count": 60,
     "metadata": {},
     "output_type": "execute_result"
    }
   ],
   "source": [
    "list(range(6))"
   ]
  },
  {
   "cell_type": "markdown",
   "id": "9ac60a55",
   "metadata": {},
   "source": [
    "# Dictionaries"
   ]
  },
  {
   "cell_type": "markdown",
   "id": "aae164c7",
   "metadata": {},
   "source": [
    "## Syntax of the Python dictionary"
   ]
  },
  {
   "cell_type": "code",
   "execution_count": null,
   "id": "47919933",
   "metadata": {},
   "outputs": [],
   "source": [
    "roaster = {\"q1\": \"Ashley\", \"q2\": \"Dolly\"}"
   ]
  },
  {
   "cell_type": "markdown",
   "id": "1e9839c5",
   "metadata": {},
   "source": [
    "## Dictionary value types"
   ]
  },
  {
   "cell_type": "code",
   "execution_count": null,
   "id": "b3594288",
   "metadata": {},
   "outputs": [],
   "source": [
    "dictionary = {\n",
    "  1: 'hello', \n",
    "  'two': True, \n",
    "  '3': [1, 2, 3], \n",
    "  'Four': {'fun': 'addition'}, \n",
    "  5.0: 5.5\n",
    "}"
   ]
  },
  {
   "cell_type": "markdown",
   "id": "19123586",
   "metadata": {},
   "source": [
    "## get() Method for Dictionary"
   ]
  },
  {
   "cell_type": "code",
   "execution_count": 61,
   "id": "d172efd6",
   "metadata": {},
   "outputs": [
    {
     "data": {
      "text/plain": [
       "'nickname is not a key'"
      ]
     },
     "execution_count": 61,
     "metadata": {},
     "output_type": "execute_result"
    }
   ],
   "source": [
    "# without default\n",
    "{\"name\": \"Victor\"}.get(\"name\")\n",
    "# returns \"Victor\"\n",
    "\n",
    "{\"name\": \"Victor\"}.get(\"nickname\")\n",
    "# returns None\n",
    "\n",
    "# with default\n",
    "{\"name\": \"Victor\"}.get(\"nickname\", \"nickname is not a key\")\n",
    "# returns \"nickname is not a key\""
   ]
  },
  {
   "cell_type": "markdown",
   "id": "bd184f84",
   "metadata": {},
   "source": [
    "Python provides a .get() method to access a dictionary value if it exists. This method takes the key as the first argument and an optional default value as the second argument, and it returns the value for the specified key if key is in the dictionary. If the second argument is not specified and key is not found then None is returned."
   ]
  },
  {
   "cell_type": "markdown",
   "id": "2ac53a1e",
   "metadata": {},
   "source": [
    "## Dictionary Key-Value Methods"
   ]
  },
  {
   "cell_type": "code",
   "execution_count": null,
   "id": "4ad84ddc",
   "metadata": {},
   "outputs": [],
   "source": [
    "ex_dict = {\"a\": \"anteater\", \"b\": \"bumblebee\", \"c\": \"cheetah\"}\n",
    "\n",
    "ex_dict.keys()\n",
    "# dict_keys([\"a\",\"b\",\"c\"])\n",
    "\n",
    "ex_dict.values()\n",
    "# dict_values([\"anteater\", \"bumblebee\", \"cheetah\"])\n",
    "\n",
    "ex_dict.items()\n",
    "# dict_items([(\"a\",\"anteater\"),(\"b\",\"bumblebee\"),(\"c\",\"cheetah\")])"
   ]
  },
  {
   "cell_type": "code",
   "execution_count": 62,
   "id": "dc5c5f31",
   "metadata": {},
   "outputs": [
    {
     "name": "stdout",
     "output_type": "stream",
     "text": [
      "{'executive': 7, 'hopper': 20, 'lovelace': 6, 'pod': 2, 'snooze booth': 1}\n"
     ]
    }
   ],
   "source": [
    "conference_rooms = [\"executive\", \"hopper\", \"lovelace\", \"pod\", \"snooze booth\"]\n",
    "capacity = [7, 20, 6, 2, 1]\n",
    "room_dict = {key:value for key, value in zip(conference_rooms, capacity)}\n",
    "\n",
    "print(room_dict)"
   ]
  },
  {
   "cell_type": "markdown",
   "id": "4ad241e7",
   "metadata": {},
   "source": [
    "# Clases"
   ]
  },
  {
   "cell_type": "markdown",
   "id": "7cdbb857",
   "metadata": {},
   "source": [
    "## Python Class Variables"
   ]
  },
  {
   "cell_type": "code",
   "execution_count": null,
   "id": "686be788",
   "metadata": {},
   "outputs": [],
   "source": [
    "class my_class:\n",
    "  class_variable = \"I am a Class Variable!\"\n",
    "  \n",
    "x = my_class()\n",
    "y = my_class()\n",
    "\n",
    "print(x.class_variable) #I am a Class Variable!\n",
    "print(y.class_variable) #I am a Class Variable!"
   ]
  },
  {
   "cell_type": "markdown",
   "id": "87126da0",
   "metadata": {},
   "source": [
    "In Python, class variables are defined outside of all methods and have the same value for every instance of the class.\n",
    "\n",
    "Class variables are accessed with the instance.variable or class_name.variable syntaxes."
   ]
  },
  {
   "cell_type": "markdown",
   "id": "f5d24258",
   "metadata": {},
   "source": [
    "## Python class"
   ]
  },
  {
   "cell_type": "code",
   "execution_count": null,
   "id": "7769345e",
   "metadata": {},
   "outputs": [],
   "source": [
    "# Defining a class\n",
    "class Animal:\n",
    "  def __init__(self, name, number_of_legs):\n",
    "    self.name = name\n",
    "    self.number_of_legs = number_of_legs"
   ]
  },
  {
   "cell_type": "markdown",
   "id": "6e242248",
   "metadata": {},
   "source": [
    "## Instantiate Python Class"
   ]
  },
  {
   "cell_type": "code",
   "execution_count": null,
   "id": "b4d45c03",
   "metadata": {},
   "outputs": [],
   "source": [
    "lass Car:\n",
    "  \"This is an empty class\"\n",
    "  pass\n",
    "\n",
    "# Class Instantiation\n",
    "ferrari = Car()"
   ]
  },
  {
   "cell_type": "markdown",
   "id": "13840f8b",
   "metadata": {},
   "source": [
    "In Python, a class needs to be instantiated before use.\n",
    "\n",
    "As an analogy, a class can be thought of as a blueprint (Car), and an instance is an actual implementation of the blueprint (Ferrari)."
   ]
  },
  {
   "cell_type": "markdown",
   "id": "1eb44744",
   "metadata": {},
   "source": [
    "## Python init method"
   ]
  },
  {
   "cell_type": "code",
   "execution_count": null,
   "id": "de1774ef",
   "metadata": {},
   "outputs": [],
   "source": [
    "class Animal:\n",
    "  def __init__(self, voice):\n",
    "    self.voice = voice\n",
    "\n",
    "# When a class instance is created, the instance variable\n",
    "# 'voice' is created and set to the input value.\n",
    "cat = Animal('Meow')\n",
    "print(cat.voice) # Output: Meow\n",
    "\n",
    "dog = Animal('Woof') \n",
    "print(dog.voice) # Output: Woof"
   ]
  },
  {
   "cell_type": "markdown",
   "id": "c31f69ce",
   "metadata": {},
   "source": [
    "In Python, the .__init__() method is used to initialize a newly created object. It is called every time the class is instantiated."
   ]
  },
  {
   "cell_type": "markdown",
   "id": "a9a87721",
   "metadata": {},
   "source": [
    "# Chatbot"
   ]
  },
  {
   "cell_type": "markdown",
   "id": "a2950bc8",
   "metadata": {},
   "source": [
    "## Echo chatbot"
   ]
  },
  {
   "cell_type": "code",
   "execution_count": 63,
   "id": "80337c90",
   "metadata": {},
   "outputs": [
    {
     "name": "stdout",
     "output_type": "stream",
     "text": [
      "This is a dummy chatbot. Thanks to connect with me. I'm going to try scare you\n",
      "I'll repeat after you!\n",
      "Tell me whatever thing about you bitch! Me llamo Joel\n",
      "You said that you are my bitch and Me llamo Joel\n"
     ]
    }
   ],
   "source": [
    "print(\"This is a dummy chatbot. Thanks to connect with me. I'm going to try scare you\")\n",
    "\n",
    "print(\"I'll repeat after you!\")\n",
    "\n",
    "stuff_to_echo = input(\"Tell me whatever thing about you bitch! \")\n",
    "\n",
    "print(\"You said that you are my bitch and \" +stuff_to_echo)"
   ]
  },
  {
   "cell_type": "markdown",
   "id": "45246c5a",
   "metadata": {},
   "source": [
    "## Coffee chatbot"
   ]
  },
  {
   "cell_type": "code",
   "execution_count": 64,
   "id": "6d790296",
   "metadata": {},
   "outputs": [
    {
     "name": "stdout",
     "output_type": "stream",
     "text": [
      "Welcome to the cafe!\n",
      "What size drink can I get for you? \n",
      "[a] Small \n",
      "[b] Medium \n",
      "[c] Large \n",
      "a\n",
      "What type of drink would you like?\n",
      " [a] Brewed Coffee\n",
      " [b] Mocha\n",
      " [c] Latte\n",
      "c\n",
      "And what kind of milk for your latte?\n",
      " [a] 2% milk\n",
      " [b] Non_fat milk\n",
      " [c] Soy milk\n",
      "a\n",
      "Alright, that's a Ok! Your drink is SMALL LATTE!\n",
      "Can I get your name please?\n",
      "Joel\n",
      "Thanks, Joel! Your drink will be ready shortly\n"
     ]
    }
   ],
   "source": [
    "# Define your functions\n",
    "\n",
    "def coffee_bot():\n",
    "  print(\"Welcome to the cafe!\")\n",
    "  size= get_size()\n",
    "  drink_type= get_drink_type()\n",
    "  print(\"Alright, that's a {} {}!\".format(size, drink_type))\n",
    "  name=get_name()\n",
    "  print(\"Thanks, {}! Your drink will be ready shortly\".format(name))\n",
    "\n",
    "def get_size():\n",
    "  res= input(\"What size drink can I get for you? \\n[a] Small \\n[b] Medium \\n[c] Large \\n\")\n",
    "  \n",
    "  if res == \"a\":\n",
    "    return \"Ok! Your drink is SMALL\"\n",
    "  elif res == \"b\":\n",
    "    return \"Drink MEDIUM\"\n",
    "  elif res == \"c\":\n",
    "    return \"Great! A LARGE drink coffee\"\n",
    "  else:\n",
    "    print_message()\n",
    "    return get_size()\n",
    "\n",
    "def print_message():\n",
    "  print(\"I'm sorry, I did not understand your selection. Please enter the corresponding letter for your response\")\n",
    "\n",
    "def get_drink_type():\n",
    "  res=input(\"What type of drink would you like?\\n [a] Brewed Coffee\\n [b] Mocha\\n [c] Latte\\n\")\n",
    "  \n",
    "  if res == \"a\":\n",
    "    return \"BREWED COFFEE\"\n",
    "  elif res == \"b\":\n",
    "    return \"MOCHA\"\n",
    "  elif res == \"c\":\n",
    "    return order_latte()\n",
    "  else:\n",
    "    print_message()\n",
    "    return get_drink_type()\n",
    "\n",
    "def order_latte():\n",
    "  res=input(\"And what kind of milk for your latte?\\n [a] 2% milk\\n [b] Non_fat milk\\n [c] Soy milk\\n\")\n",
    "\n",
    "  if res == \"a\":\n",
    "    return \"LATTE\"\n",
    "  elif res == \"b\":\n",
    "    return \"Non_fat LATTE\"\n",
    "  elif res == \"c\":\n",
    "    return \"Soy LATTE\"\n",
    "  else:\n",
    "    print_message()\n",
    "    return order_latte()\n",
    "\n",
    "def get_name():\n",
    "  name=input(\"Can I get your name please?\\n\")\n",
    "  return name\n",
    "\n",
    "# Call coffee_bot()!\n",
    "\n",
    "coffee_bot()"
   ]
  },
  {
   "cell_type": "markdown",
   "id": "3b234573",
   "metadata": {},
   "source": [
    "## Looping Coffee chatbot "
   ]
  },
  {
   "cell_type": "code",
   "execution_count": 65,
   "id": "6f9ce674",
   "metadata": {},
   "outputs": [
    {
     "name": "stdout",
     "output_type": "stream",
     "text": [
      "Welcome to the cafe!\n",
      "What size drink can I get for you? \n",
      "[a] Small \n",
      "[b] Medium \n",
      "[c] Large \n",
      "> a\n",
      "What type of drink would you like? \n",
      "[a] Brewed Coffee \n",
      "[b] Mocha \n",
      "[c] Latte \n",
      "> a\n",
      "Alright, that's a small brewed coffee!\n",
      "Would you like to order another drink? (y/n)u\n",
      "Would you like to order another drink? (y/n)y\n",
      "What size drink can I get for you? \n",
      "[a] Small \n",
      "[b] Medium \n",
      "[c] Large \n",
      "> b\n",
      "What type of drink would you like? \n",
      "[a] Brewed Coffee \n",
      "[b] Mocha \n",
      "[c] Latte \n",
      "> b\n",
      "Would you like to try our limited-edition peppermint mocha?\n",
      " [a] Sure!\n",
      " [b] No, thanks!\n",
      "b\n",
      "Alright, that's a medium MOCHA!\n",
      "Would you like to order another drink? (y/n)n\n",
      "- small brewed coffee\n",
      "- medium MOCHA\n",
      "Can I get your name please? \n",
      "> Joel\n",
      "Thanks, Joel! Your order will be ready shortly.\n"
     ]
    }
   ],
   "source": [
    "def coffee_bot():\n",
    "  print('Welcome to the cafe!')\n",
    "\n",
    "  order_drink = \"y\"\n",
    "  drinks=[]\n",
    "\n",
    "  while order_drink == \"y\":\n",
    "    size = get_size()  \n",
    "    drink_type = get_drink_type()\n",
    "\n",
    "    drink = '{} {}'.format(size, drink_type)\n",
    "    print('Alright, that\\'s a {}!'.format(drink))\n",
    "    drinks.append(drink)\n",
    "\n",
    "    while True:\n",
    "      order_drink=input(\"Would you like to order another drink? (y/n)\")\n",
    "      if order_drink == \"y\" or order_drink == \"n\":\n",
    "        break\n",
    "  for drink in drinks:\n",
    "    print('-', drink)\n",
    "\n",
    "  \n",
    "  name = input('Can I get your name please? \\n> ')\n",
    "  print('Thanks, {}! Your order will be ready shortly.'.format(name))\n",
    "\n",
    "def get_drink_type():\n",
    "  res = input('What type of drink would you like? \\n[a] Brewed Coffee \\n[b] Mocha \\n[c] Latte \\n> ')\n",
    "\n",
    "  if res == 'a':\n",
    "    return 'brewed coffee'\n",
    "  elif res == 'b':\n",
    "    return order_mocha()\n",
    "  elif res == 'c':\n",
    "    return order_latte()\n",
    "  else:\n",
    "    print_message()\n",
    "    return get_drink_type()\n",
    "  \n",
    "def print_message():\n",
    "  print('I\\'m sorry, I did not understand your selection. Please enter the corresponding letter for your response.')\n",
    "  \n",
    "def get_size():\n",
    "  res = input('What size drink can I get for you? \\n[a] Small \\n[b] Medium \\n[c] Large \\n> ')\n",
    "  \n",
    "  if res == 'a':\n",
    "    return 'small'\n",
    "  elif res == 'b':\n",
    "    return 'medium'\n",
    "  elif res == 'c':\n",
    "    return 'large'\n",
    "  else:\n",
    "    print_message()\n",
    "    return get_size()\n",
    "\n",
    "def order_latte():\n",
    "  res = input('And what kind of milk for your latte? \\n[a] 2% milk \\n[b] Non-fat milk \\n[c] Soy milk \\n> ')\n",
    "\n",
    "  if res == 'a':\n",
    "    return 'latte'\n",
    "  elif res == 'b':\n",
    "    return 'non-fat latte'\n",
    "  elif res == 'c':\n",
    "    return 'soy latte'\n",
    "  else:\n",
    "    print_message()\n",
    "    return order_latte()\n",
    "\n",
    "def order_mocha():\n",
    "  while True:\n",
    "    res=input(\"Would you like to try our limited-edition peppermint mocha?\\n [a] Sure!\\n [b] No, thanks!\\n\")\n",
    "    if res == \"a\":\n",
    "      return \"Peppermint MOCHA\"\n",
    "    elif res == \"b\":\n",
    "      return \"MOCHA\"\n",
    "    \n",
    "    print_message()\n",
    "\n",
    "\n",
    "\n",
    "\n",
    "coffee_bot()\n"
   ]
  },
  {
   "cell_type": "code",
   "execution_count": null,
   "id": "73912854",
   "metadata": {},
   "outputs": [
    {
     "name": "stdout",
     "output_type": "stream",
     "text": [
      "Bienvenido. Te voy a ayudar a registrar un evento en la bitacora de sistemas.\n"
     ]
    }
   ],
   "source": [
    "def bita_bot():\n",
    "    print(\"Bienvenido. Te voy a ayudar a registrar un evento en la bitacora de sistemas.\")\n",
    "    \n",
    "    user=get_user()\n",
    "    event=get_event()\n",
    "    get_decision(user,event)\n",
    "    \n",
    "def print_errorMessage():\n",
    "    print(\"No reconozco la opción que seleccionaste\")\n",
    "\n",
    "def get_user():\n",
    "    user= input(\"Primeramente indicame quien eres. ¿Eres el Coordinador, Analista o un Invitado? \\n\").lower()\n",
    "    \n",
    "    if user in [\"coordinador\",\"analista\",\"invitado\"]:\n",
    "        #print(\"Eres el \" +user)\n",
    "        return user\n",
    "    else:\n",
    "        print_errorMessage()\n",
    "        return get_user()\n",
    "    \n",
    "def get_event():\n",
    "    event=input(\"¿Cual es el evento? \\n\")\n",
    "    print(\"Este es el evento:\")\n",
    "    print(event)\n",
    "    edition=input(\"Deseas editarlo? Y/N \\n\")\n",
    "    \n",
    "    if edition == \"Y\" or edition == \"y\":\n",
    "        get_event()\n",
    "    elif edition == \"N\" or edition == \"n\":\n",
    "        print(\"Perfecto, tenemos un evento que registrar\")\n",
    "        return event\n",
    "    else:\n",
    "        print_errorMessage()\n",
    "        return get_event()\n",
    "    \n",
    "def get_decision(user, event):\n",
    "    indicators=input(\"Se necesitan indicadores para este evento? Y/N \\n\")\n",
    "    \n",
    "    if indicators == \"Y\" or indicators == \"y\":\n",
    "        satelite= get_satelite()\n",
    "        maintenance= get_maintenance()\n",
    "        \n",
    "    elif indicators == \"N\" or indicators == \"n\":\n",
    "        print(\"Este es el evento\")\n",
    "        print(\"insert into EVENTS(USERID, EVENT) values (\"+user+\", \"+event+\")\")\n",
    "        ans= input(\"Entonces, ¿Registramos el evento? Y/N \\n\")\n",
    "        if ans == \"Y\" or ans == \"y\":\n",
    "            print(\"CONEXION, VACIADO Y CERRADO DE IT_database.db\")\n",
    "        elif ans == \"N\" or ans == \"n\":\n",
    "            get_decision()\n",
    "        \n",
    "def get_satelite():\n",
    "    satelite=input(\"¿Para que satelite es, Bicentenario o Morelos3? \\n\")\n",
    "    \n",
    "    if satelite == \"Bicentenario\" or satelite == \"bicentenario\":\n",
    "        return satelite\n",
    "    elif satelite == \"Morelos3\" or satelite == \"Morelos3\":\n",
    "        return satelite\n",
    "\n",
    "def get_maintenance():\n",
    "    maintenance=input(\"¿Es un mantenimiento? Y/N \\n\")\n",
    "    \n",
    "    if maintenance == \"Y\" or maintenance == \"y\":\n",
    "        maintenance= input(\"¿Es un mantenimiento a)Diario b)Semanal c)Semestral? Selecciona a, b o c \\n\")\n",
    "        print(\"Es un MANTENIMIENTO\")\n",
    "    elif maintenance == \"N\" or maintenance == \"n\":\n",
    "        print(\"Es una incidencia \\n\")\n",
    "        \n",
    "            \n",
    "\n",
    "\n",
    "\n",
    "bita_bot()"
   ]
  },
  {
   "cell_type": "code",
   "execution_count": 90,
   "id": "e5a1eb91",
   "metadata": {},
   "outputs": [
    {
     "name": "stdout",
     "output_type": "stream",
     "text": [
      "Que color quieres? rojo\n",
      "Que fruta quieres? manzana\n",
      "Entonces quieres manzana de color rojo\n"
     ]
    }
   ],
   "source": [
    "def resultado(color, fruta):\n",
    "    print(\"Entonces quieres \" +fruta+ \" de color \" +color)\n",
    "\n",
    "def mercado():\n",
    "    resultado(color(),fruta())\n",
    "\n",
    "def color():\n",
    "    colour=input(\"Que color quieres? \")\n",
    "    return colour\n",
    "\n",
    "def fruta():\n",
    "    fruit=input(\"Que fruta quieres? \")\n",
    "    return fruit\n",
    "\n",
    "mercado()"
   ]
  },
  {
   "cell_type": "code",
   "execution_count": 68,
   "id": "6ba6e057",
   "metadata": {},
   "outputs": [
    {
     "name": "stdout",
     "output_type": "stream",
     "text": [
      "jala\n",
      "(None, 'jala')fngklng\n"
     ]
    }
   ],
   "source": [
    "a=(print(\"jala\"),\"jala\")\n",
    "print(str(a)+\"fngklng\")"
   ]
  },
  {
   "cell_type": "code",
   "execution_count": null,
   "id": "a2129f49",
   "metadata": {},
   "outputs": [],
   "source": [
    "#Las opciones son: \\n a)Diario b)Semanal c)Semestral \\n\")"
   ]
  },
  {
   "cell_type": "code",
   "execution_count": null,
   "id": "2b01e448",
   "metadata": {},
   "outputs": [],
   "source": []
  },
  {
   "cell_type": "code",
   "execution_count": null,
   "id": "f41bd68f",
   "metadata": {},
   "outputs": [],
   "source": []
  },
  {
   "cell_type": "code",
   "execution_count": null,
   "id": "7d7a656e",
   "metadata": {},
   "outputs": [],
   "source": []
  },
  {
   "cell_type": "code",
   "execution_count": null,
   "id": "fd665b24",
   "metadata": {},
   "outputs": [],
   "source": []
  },
  {
   "cell_type": "code",
   "execution_count": null,
   "id": "bc25245a",
   "metadata": {},
   "outputs": [],
   "source": []
  },
  {
   "cell_type": "code",
   "execution_count": null,
   "id": "6280b7a5",
   "metadata": {},
   "outputs": [],
   "source": []
  },
  {
   "cell_type": "code",
   "execution_count": null,
   "id": "f97ffa41",
   "metadata": {},
   "outputs": [],
   "source": []
  },
  {
   "cell_type": "code",
   "execution_count": null,
   "id": "41ae3209",
   "metadata": {},
   "outputs": [],
   "source": []
  },
  {
   "cell_type": "code",
   "execution_count": null,
   "id": "7fd5acee",
   "metadata": {},
   "outputs": [],
   "source": []
  },
  {
   "cell_type": "code",
   "execution_count": null,
   "id": "aeafac12",
   "metadata": {},
   "outputs": [],
   "source": []
  },
  {
   "cell_type": "code",
   "execution_count": null,
   "id": "a4060ca2",
   "metadata": {},
   "outputs": [],
   "source": []
  },
  {
   "cell_type": "code",
   "execution_count": null,
   "id": "81b2e58c",
   "metadata": {},
   "outputs": [],
   "source": []
  },
  {
   "cell_type": "code",
   "execution_count": null,
   "id": "6b759053",
   "metadata": {},
   "outputs": [],
   "source": []
  },
  {
   "cell_type": "code",
   "execution_count": null,
   "id": "49796d2b",
   "metadata": {},
   "outputs": [],
   "source": []
  },
  {
   "cell_type": "code",
   "execution_count": null,
   "id": "0bd59287",
   "metadata": {},
   "outputs": [],
   "source": []
  },
  {
   "cell_type": "code",
   "execution_count": null,
   "id": "de9fde8e",
   "metadata": {},
   "outputs": [],
   "source": []
  },
  {
   "cell_type": "code",
   "execution_count": null,
   "id": "f04d32cb",
   "metadata": {},
   "outputs": [],
   "source": []
  },
  {
   "cell_type": "code",
   "execution_count": null,
   "id": "27771acb",
   "metadata": {},
   "outputs": [],
   "source": []
  }
 ],
 "metadata": {
  "kernelspec": {
   "display_name": "Python 3 (ipykernel)",
   "language": "python",
   "name": "python3"
  },
  "language_info": {
   "codemirror_mode": {
    "name": "ipython",
    "version": 3
   },
   "file_extension": ".py",
   "mimetype": "text/x-python",
   "name": "python",
   "nbconvert_exporter": "python",
   "pygments_lexer": "ipython3",
   "version": "3.9.12"
  }
 },
 "nbformat": 4,
 "nbformat_minor": 5
}
